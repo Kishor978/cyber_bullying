{
 "cells": [
  {
   "cell_type": "code",
   "execution_count": 1,
   "id": "85c622ff",
   "metadata": {},
   "outputs": [],
   "source": [
    "import pandas as pd"
   ]
  },
  {
   "cell_type": "code",
   "execution_count": 14,
   "id": "813888a4",
   "metadata": {},
   "outputs": [],
   "source": [
    "df=pd.read_csv(r\"E:\\Cyberbullying\\dataset\\raw\\kurrek.2020.slur-corpus.csv\")"
   ]
  },
  {
   "cell_type": "code",
   "execution_count": 15,
   "id": "1f2f4c40",
   "metadata": {},
   "outputs": [
    {
     "data": {
      "text/plain": [
       "0               Fuck that I dont wanna watch tranny porn. \n",
       "1        Opie just wanted to have a good time. The same...\n",
       "2        Fuck that faggot Fallon. Fucking sissy boy act...\n",
       "3                       BbBB...b.b..b.bb but OP's a faggot\n",
       "4        Who even uses the word tranny except for trans...\n",
       "                               ...                        \n",
       "39998    *As an alcoholic who on occasion has one too m...\n",
       "39999    It's not inaccurate, it's indoctrination of yo...\n",
       "40000    What did you expect?? when they banned /r/nigg...\n",
       "40001    That was hilariously bad. They used the insult...\n",
       "40002    Reddit in regards to a black woman taking cand...\n",
       "Name: body, Length: 40003, dtype: object"
      ]
     },
     "execution_count": 15,
     "metadata": {},
     "output_type": "execute_result"
    }
   ],
   "source": [
    "df['body']"
   ]
  },
  {
   "cell_type": "code",
   "execution_count": null,
   "id": "50cd89cf",
   "metadata": {},
   "outputs": [],
   "source": [
    "import pandas as pd\n",
    "\n",
    "def load_kurrek_data():\n",
    "    # Load dataset\n",
    "    df = pd.read_csv(r\"E:\\Cyberbullying\\dataset\\raw\\kurrek.2020.slur-corpus.csv\")\n",
    "\n",
    "    # Drop noise\n",
    "    df = df[df['gold_label'] != 'CMP']\n",
    "\n",
    "    # Map labels to binary\n",
    "    label_map = {\n",
    "        'DEG': '1',\n",
    "        'APR': '1',\n",
    "        'NDG': '0',\n",
    "        'HOM': '0'\n",
    "    }\n",
    "    df['binary_label'] = df['gold_label'].map(label_map)\n",
    "\n",
    "    # Optional: Drop rows with NaN (if any remain)\n",
    "    df = df.dropna(subset=['binary_label', 'body'])\n",
    "\n",
    "    return df[['body', 'binary_label']]\n"
   ]
  },
  {
   "cell_type": "code",
   "execution_count": 11,
   "id": "35febe37",
   "metadata": {},
   "outputs": [
    {
     "data": {
      "text/html": [
       "<div>\n",
       "<style scoped>\n",
       "    .dataframe tbody tr th:only-of-type {\n",
       "        vertical-align: middle;\n",
       "    }\n",
       "\n",
       "    .dataframe tbody tr th {\n",
       "        vertical-align: top;\n",
       "    }\n",
       "\n",
       "    .dataframe thead th {\n",
       "        text-align: right;\n",
       "    }\n",
       "</style>\n",
       "<table border=\"1\" class=\"dataframe\">\n",
       "  <thead>\n",
       "    <tr style=\"text-align: right;\">\n",
       "      <th></th>\n",
       "      <th>body</th>\n",
       "      <th>binary_label</th>\n",
       "    </tr>\n",
       "  </thead>\n",
       "  <tbody>\n",
       "    <tr>\n",
       "      <th>0</th>\n",
       "      <td>Fuck that I dont wanna watch tranny porn.</td>\n",
       "      <td>1</td>\n",
       "    </tr>\n",
       "    <tr>\n",
       "      <th>1</th>\n",
       "      <td>Opie just wanted to have a good time. The same...</td>\n",
       "      <td>1</td>\n",
       "    </tr>\n",
       "    <tr>\n",
       "      <th>2</th>\n",
       "      <td>Fuck that faggot Fallon. Fucking sissy boy act...</td>\n",
       "      <td>1</td>\n",
       "    </tr>\n",
       "    <tr>\n",
       "      <th>3</th>\n",
       "      <td>BbBB...b.b..b.bb but OP's a faggot</td>\n",
       "      <td>1</td>\n",
       "    </tr>\n",
       "    <tr>\n",
       "      <th>4</th>\n",
       "      <td>Who even uses the word tranny except for trans...</td>\n",
       "      <td>0</td>\n",
       "    </tr>\n",
       "    <tr>\n",
       "      <th>...</th>\n",
       "      <td>...</td>\n",
       "      <td>...</td>\n",
       "    </tr>\n",
       "    <tr>\n",
       "      <th>39998</th>\n",
       "      <td>*As an alcoholic who on occasion has one too m...</td>\n",
       "      <td>1</td>\n",
       "    </tr>\n",
       "    <tr>\n",
       "      <th>39999</th>\n",
       "      <td>It's not inaccurate, it's indoctrination of yo...</td>\n",
       "      <td>1</td>\n",
       "    </tr>\n",
       "    <tr>\n",
       "      <th>40000</th>\n",
       "      <td>What did you expect?? when they banned /r/nigg...</td>\n",
       "      <td>0</td>\n",
       "    </tr>\n",
       "    <tr>\n",
       "      <th>40001</th>\n",
       "      <td>That was hilariously bad. They used the insult...</td>\n",
       "      <td>0</td>\n",
       "    </tr>\n",
       "    <tr>\n",
       "      <th>40002</th>\n",
       "      <td>Reddit in regards to a black woman taking cand...</td>\n",
       "      <td>0</td>\n",
       "    </tr>\n",
       "  </tbody>\n",
       "</table>\n",
       "<p>39808 rows × 2 columns</p>\n",
       "</div>"
      ],
      "text/plain": [
       "                                                    body binary_label\n",
       "0             Fuck that I dont wanna watch tranny porn.             1\n",
       "1      Opie just wanted to have a good time. The same...            1\n",
       "2      Fuck that faggot Fallon. Fucking sissy boy act...            1\n",
       "3                     BbBB...b.b..b.bb but OP's a faggot            1\n",
       "4      Who even uses the word tranny except for trans...            0\n",
       "...                                                  ...          ...\n",
       "39998  *As an alcoholic who on occasion has one too m...            1\n",
       "39999  It's not inaccurate, it's indoctrination of yo...            1\n",
       "40000  What did you expect?? when they banned /r/nigg...            0\n",
       "40001  That was hilariously bad. They used the insult...            0\n",
       "40002  Reddit in regards to a black woman taking cand...            0\n",
       "\n",
       "[39808 rows x 2 columns]"
      ]
     },
     "execution_count": 11,
     "metadata": {},
     "output_type": "execute_result"
    }
   ],
   "source": [
    "load_kurrek_data()"
   ]
  },
  {
   "cell_type": "code",
   "execution_count": null,
   "id": "66ccd86d",
   "metadata": {},
   "outputs": [],
   "source": []
  }
 ],
 "metadata": {
  "kernelspec": {
   "display_name": "venv",
   "language": "python",
   "name": "python3"
  },
  "language_info": {
   "codemirror_mode": {
    "name": "ipython",
    "version": 3
   },
   "file_extension": ".py",
   "mimetype": "text/x-python",
   "name": "python",
   "nbconvert_exporter": "python",
   "pygments_lexer": "ipython3",
   "version": "3.12.3"
  }
 },
 "nbformat": 4,
 "nbformat_minor": 5
}
