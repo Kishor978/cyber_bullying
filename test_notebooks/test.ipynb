{
 "cells": [
  {
   "cell_type": "code",
   "execution_count": 1,
   "id": "85c622ff",
   "metadata": {},
   "outputs": [],
   "source": [
    "import pandas as pd"
   ]
  },
  {
   "cell_type": "code",
   "execution_count": 14,
   "id": "813888a4",
   "metadata": {},
   "outputs": [],
   "source": [
    "df=pd.read_csv(r\"E:\\Cyberbullying\\dataset\\raw\\kurrek.2020.slur-corpus.csv\")"
   ]
  },
  {
   "cell_type": "code",
   "execution_count": 15,
   "id": "1f2f4c40",
   "metadata": {},
   "outputs": [
    {
     "data": {
      "text/plain": [
       "0               Fuck that I dont wanna watch tranny porn. \n",
       "1        Opie just wanted to have a good time. The same...\n",
       "2        Fuck that faggot Fallon. Fucking sissy boy act...\n",
       "3                       BbBB...b.b..b.bb but OP's a faggot\n",
       "4        Who even uses the word tranny except for trans...\n",
       "                               ...                        \n",
       "39998    *As an alcoholic who on occasion has one too m...\n",
       "39999    It's not inaccurate, it's indoctrination of yo...\n",
       "40000    What did you expect?? when they banned /r/nigg...\n",
       "40001    That was hilariously bad. They used the insult...\n",
       "40002    Reddit in regards to a black woman taking cand...\n",
       "Name: body, Length: 40003, dtype: object"
      ]
     },
     "execution_count": 15,
     "metadata": {},
     "output_type": "execute_result"
    }
   ],
   "source": [
    "df['body']"
   ]
  },
  {
   "cell_type": "code",
   "execution_count": null,
   "id": "50cd89cf",
   "metadata": {},
   "outputs": [],
   "source": []
  }
 ],
 "metadata": {
  "kernelspec": {
   "display_name": "venv",
   "language": "python",
   "name": "python3"
  },
  "language_info": {
   "codemirror_mode": {
    "name": "ipython",
    "version": 3
   },
   "file_extension": ".py",
   "mimetype": "text/x-python",
   "name": "python",
   "nbconvert_exporter": "python",
   "pygments_lexer": "ipython3",
   "version": "3.12.3"
  }
 },
 "nbformat": 4,
 "nbformat_minor": 5
}
