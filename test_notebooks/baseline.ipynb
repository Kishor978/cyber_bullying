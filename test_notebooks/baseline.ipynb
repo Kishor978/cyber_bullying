{
 "cells": [
  {
   "cell_type": "code",
   "execution_count": null,
   "id": "cccf38d5",
   "metadata": {},
   "outputs": [],
   "source": [
    "# Step 1: Import Libraries\n",
    "import pandas as pd\n",
    "import numpy as np\n",
    "import string\n",
    "import re\n",
    "\n",
    "from sklearn.model_selection import train_test_split\n",
    "from sklearn.feature_extraction.text import TfidfVectorizer\n",
    "from sklearn.linear_model import LogisticRegression\n",
    "from sklearn.metrics import classification_report, confusion_matrix\n",
    "import seaborn as sns\n",
    "import matplotlib.pyplot as plt\n"
   ]
  },
  {
   "cell_type": "code",
   "execution_count": null,
   "id": "32d9d690",
   "metadata": {},
   "outputs": [],
   "source": [
    "# Step 2: Load Dataset\n",
    "vidgen_df=pd.read_csv(r\"E:\\Cyberbullying\\dataset\\Dynamically Generated Hate Dataset v0.2.2.csv\")  # Replace with actual path\n"
   ]
  },
  {
   "cell_type": "code",
   "execution_count": null,
   "id": "2714b265",
   "metadata": {},
   "outputs": [],
   "source": [
    "vidgen_df = vidgen_df[['text', '']]  # Keep only relevant columns\n",
    "\n",
    "label_map = {'nothate': 0, 'hate': 1}\n",
    "vidgen_df['label'] = vidgen_df['label'].map(label_map)\n",
    "print(vidgen_df['label'].value_counts())  # Check class balance\n"
   ]
  },
  {
   "cell_type": "code",
   "execution_count": null,
   "id": "e5397a27",
   "metadata": {},
   "outputs": [],
   "source": [
    "# Step 3: Preprocess Text\n",
    "def clean_text(text):\n",
    "    text = text.lower()\n",
    "    text = re.sub(r\"http\\S+|www\\S+|https\\S+\", '', text)  # remove links\n",
    "    text = re.sub(r'@\\w+|#\\w+', '', text)                # remove mentions/hashtags\n",
    "    text = re.sub(r'[^a-z\\s]', '', text)                 # remove numbers, punctuations\n",
    "    return text\n",
    "\n",
    "vidgen_df['clean_tweet'] = vidgen_df['text'].apply(clean_text)\n"
   ]
  },
  {
   "cell_type": "code",
   "execution_count": null,
   "id": "3dac0e98",
   "metadata": {},
   "outputs": [],
   "source": [
    "# Step 4: TF-IDF Vectorization\n",
    "tfidf = TfidfVectorizer(max_features=5000)\n",
    "X = tfidf.fit_transform(vidgen_df['clean_tweet']).toarray()\n",
    "y = vidgen_df['label'].values\n"
   ]
  },
  {
   "cell_type": "code",
   "execution_count": null,
   "id": "89380133",
   "metadata": {},
   "outputs": [],
   "source": [
    "# Step 5: Train-Test Split\n",
    "X_train, X_test, y_train, y_test = train_test_split(X, y, test_size=0.2, random_state=42, stratify=y)\n"
   ]
  },
  {
   "cell_type": "code",
   "execution_count": null,
   "id": "5cb9133d",
   "metadata": {},
   "outputs": [],
   "source": [
    "# Step 6: Train Logistic Regression\n",
    "model = LogisticRegression(max_iter=1000)\n",
    "model.fit(X_train, y_train)\n"
   ]
  },
  {
   "cell_type": "code",
   "execution_count": null,
   "id": "267daea5",
   "metadata": {},
   "outputs": [],
   "source": [
    "# Step 7: Evaluation\n",
    "y_pred = model.predict(X_test)\n",
    "print(\"Classification Report of vidgen_df:\\n\", classification_report(y_test, y_pred))"
   ]
  },
  {
   "cell_type": "code",
   "execution_count": null,
   "id": "75ad4dc0",
   "metadata": {},
   "outputs": [],
   "source": [
    "from sklearn.metrics import accuracy_score, precision_score, recall_score, f1_score\n",
    "\n",
    "accuracy = accuracy_score(y_test, y_pred)\n",
    "precision = precision_score(y_test, y_pred)\n",
    "recall = recall_score(y_test, y_pred)\n",
    "f1 = f1_score(y_test, y_pred)\n",
    "\n",
    "print(f\"Accuracy:  {accuracy:.4f}\")\n",
    "print(f\"Precision: {precision:.4f}\")\n",
    "print(f\"Recall:    {recall:.4f}\")\n",
    "print(f\"F1-Score:  {f1:.4f}\")\n"
   ]
  },
  {
   "cell_type": "code",
   "execution_count": null,
   "id": "542203e1",
   "metadata": {},
   "outputs": [],
   "source": [
    "\n",
    "\n",
    "# Confusion Matrix\n",
    "cm = confusion_matrix(y_test, y_pred)\n",
    "sns.heatmap(cm, annot=True, fmt='d', cmap='Blues', xticklabels=['Non-bullying', 'Bullying'], yticklabels=['Non-bullying', 'Bullying'])\n",
    "plt.xlabel('Predicted')\n",
    "plt.ylabel('Actual')\n",
    "plt.title('Confusion Matrix of vidgen_df')\n",
    "plt.show()\n"
   ]
  },
  {
   "cell_type": "code",
   "execution_count": null,
   "id": "a0f75a8b",
   "metadata": {},
   "outputs": [],
   "source": [
    "davidson_df = pd.read_csv(r\"E:\\Cyberbullying\\dataset\\davidson.csv\")\n"
   ]
  },
  {
   "cell_type": "code",
   "execution_count": null,
   "id": "59a95c2c",
   "metadata": {},
   "outputs": [],
   "source": [
    "davidson_df"
   ]
  },
  {
   "cell_type": "code",
   "execution_count": null,
   "id": "048f70c2",
   "metadata": {},
   "outputs": [],
   "source": [
    "davidson_df['clean_tweet'] = davidson_df['tweet'].apply(clean_text)\n",
    "\n"
   ]
  },
  {
   "cell_type": "code",
   "execution_count": null,
   "id": "4f2541de",
   "metadata": {},
   "outputs": [],
   "source": [
    "# Convert to binary: 0 or 1 = bullying, 2 = non-bullying\n",
    "davidson_df['label'] = davidson_df['class'].apply(lambda x: 0 if x == 2 else 1)\n",
    "davidson_df.drop(columns=['class'], inplace=True)\n",
    "\n",
    "print(davidson_df['label'].value_counts())  # Check class balance"
   ]
  },
  {
   "cell_type": "code",
   "execution_count": null,
   "id": "5c190057",
   "metadata": {},
   "outputs": [],
   "source": [
    "# Step 4: TF-IDF Vectorization\n",
    "tfidf = TfidfVectorizer(max_features=5000)\n",
    "X = tfidf.fit_transform(davidson_df['clean_tweet']).toarray()\n",
    "y = davidson_df['label'].values\n"
   ]
  },
  {
   "cell_type": "code",
   "execution_count": null,
   "id": "4bc3f23c",
   "metadata": {},
   "outputs": [],
   "source": [
    "# Step 5: Train-Test Split\n",
    "X_train, X_test, y_train, y_test = train_test_split(X, y, test_size=0.2, random_state=42, stratify=y)\n"
   ]
  },
  {
   "cell_type": "code",
   "execution_count": null,
   "id": "ce46691d",
   "metadata": {},
   "outputs": [],
   "source": [
    "# Step 6: Train Logistic Regression\n",
    "model = LogisticRegression(max_iter=1000)\n",
    "model.fit(X_train, y_train)\n"
   ]
  },
  {
   "cell_type": "code",
   "execution_count": null,
   "id": "81144b4d",
   "metadata": {},
   "outputs": [],
   "source": [
    "# Step 7: Evaluation\n",
    "y_pred = model.predict(X_test)\n",
    "print(\"Classification Report of vidgen_df:\\n\", classification_report(y_test, y_pred))"
   ]
  },
  {
   "cell_type": "code",
   "execution_count": null,
   "id": "691b597f",
   "metadata": {},
   "outputs": [],
   "source": [
    "from sklearn.metrics import accuracy_score, precision_score, recall_score, f1_score\n",
    "\n",
    "accuracy = accuracy_score(y_test, y_pred)\n",
    "precision = precision_score(y_test, y_pred)\n",
    "recall = recall_score(y_test, y_pred)\n",
    "f1 = f1_score(y_test, y_pred)\n",
    "\n",
    "print(f\"Accuracy:  {accuracy:.4f}\")\n",
    "print(f\"Precision: {precision:.4f}\")\n",
    "print(f\"Recall:    {recall:.4f}\")\n",
    "print(f\"F1-Score:  {f1:.4f}\")\n"
   ]
  },
  {
   "cell_type": "code",
   "execution_count": null,
   "id": "b9165181",
   "metadata": {},
   "outputs": [],
   "source": [
    "\n",
    "\n",
    "# Confusion Matrix\n",
    "cm = confusion_matrix(y_test, y_pred)\n",
    "sns.heatmap(cm, annot=True, fmt='d', cmap='Blues', xticklabels=['Non-bullying', 'Bullying'], yticklabels=['Non-bullying', 'Bullying'])\n",
    "plt.xlabel('Predicted')\n",
    "plt.ylabel('Actual')\n",
    "plt.title('Confusion Matrix of vidgen_df')\n",
    "plt.show()\n"
   ]
  },
  {
   "cell_type": "code",
   "execution_count": null,
   "id": "5ae50384",
   "metadata": {},
   "outputs": [],
   "source": []
  }
 ],
 "metadata": {
  "kernelspec": {
   "display_name": "venv",
   "language": "python",
   "name": "python3"
  },
  "language_info": {
   "codemirror_mode": {
    "name": "ipython",
    "version": 3
   },
   "file_extension": ".py",
   "mimetype": "text/x-python",
   "name": "python",
   "nbconvert_exporter": "python",
   "pygments_lexer": "ipython3",
   "version": "3.12.3"
  }
 },
 "nbformat": 4,
 "nbformat_minor": 5
}
